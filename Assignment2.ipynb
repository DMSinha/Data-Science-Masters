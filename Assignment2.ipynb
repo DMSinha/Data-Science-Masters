{
 "cells": [
  {
   "cell_type": "markdown",
   "id": "b2a68c7b-728e-4a89-a1ca-43957353ea23",
   "metadata": {},
   "source": [
    "<h2>Q1. How do you comment code in Python? What are the different types of comments?</h2>\n",
    "\n",
    "<h3> <p> 2 ways of commenting code in Python :\n",
    "\n",
    "    1. Single Line Comments: This is done using \"#\" operator. This can be used before or after the           statements to comment in single line.\n",
    "    \n",
    "    2. Multiline comments: This is done using \"\"\"\"\" (Three times double quotes) or \"'''\" (Three times single quotes) and is used to comment multiple lines. To use this we need to enclose portion of code within \"\"\" or '''\n",
    "    \n",
    "    \n",
    "</p>\n",
    "</h3>"
   ]
  },
  {
   "cell_type": "code",
   "execution_count": 1,
   "id": "1dd68770-7220-4840-b39d-bc7069bc7f59",
   "metadata": {},
   "outputs": [
    {
     "name": "stdout",
     "output_type": "stream",
     "text": [
      "Divya\n"
     ]
    }
   ],
   "source": [
    "## This is Single Line Comment\n",
    "a= \"Divya\"\n",
    "print(a)"
   ]
  },
  {
   "cell_type": "code",
   "execution_count": 2,
   "id": "4303691c-9963-4321-bf69-702cdb87022a",
   "metadata": {},
   "outputs": [
    {
     "name": "stdout",
     "output_type": "stream",
     "text": [
      "Divya\n"
     ]
    }
   ],
   "source": [
    "\"\"\"This is multiline comments\n",
    "We can write multiple comments enclosed within this\"\"\"\n",
    "a= \"Divya\"\n",
    "print(a)"
   ]
  },
  {
   "cell_type": "markdown",
   "id": "c1d905ab-4e97-4411-813c-9597b2fa77e5",
   "metadata": {},
   "source": [
    "<h2>Q2. What are variables in Python? How do you declare and assign values to variables?</h2>\n",
    "\n",
    "<h3><p>\n",
    "   Variables used to store values in Python. Also variables in python are dynamically typed, that is we dont need to specify it's data type explicitly.\n",
    "    \n",
    "    To declare a variable, we simply need to write name of variable.\n",
    "    For assignment, '=' is used.\n",
    " "
   ]
  },
  {
   "cell_type": "code",
   "execution_count": 8,
   "id": "22f7cfa4-94e9-422e-8a89-cd99138d1fb3",
   "metadata": {},
   "outputs": [
    {
     "name": "stdout",
     "output_type": "stream",
     "text": [
      "1\n"
     ]
    }
   ],
   "source": [
    "#Variable Declaration & Assignment\n",
    "t=1\n",
    "print(t)"
   ]
  },
  {
   "cell_type": "markdown",
   "id": "d1bba87e-0e7a-400b-bc03-f05364c05d1b",
   "metadata": {},
   "source": [
    "<h3>Q3. How do you convert one data type to another in Python?\n",
    "This is done using Type Casting. Several Functions help type cast data types like int(), float(). str()\n",
    "</h3>\n",
    "\n"
   ]
  },
  {
   "cell_type": "code",
   "execution_count": 9,
   "id": "53aad893-c65e-4e6d-a082-3690c65ea997",
   "metadata": {},
   "outputs": [
    {
     "data": {
      "text/plain": [
       "int"
      ]
     },
     "execution_count": 9,
     "metadata": {},
     "output_type": "execute_result"
    }
   ],
   "source": [
    "# Type Casting Integer to String\n",
    "a = 12\n",
    "type(a)\n"
   ]
  },
  {
   "cell_type": "code",
   "execution_count": 10,
   "id": "af9fbc01-874f-4734-bdf1-f17593b4bcb3",
   "metadata": {},
   "outputs": [
    {
     "data": {
      "text/plain": [
       "str"
      ]
     },
     "execution_count": 10,
     "metadata": {},
     "output_type": "execute_result"
    }
   ],
   "source": [
    "a = str(a)\n",
    "type(a)\n"
   ]
  },
  {
   "cell_type": "code",
   "execution_count": 12,
   "id": "daebae60-7ff3-4e4b-a02c-0a57a7ba57ba",
   "metadata": {},
   "outputs": [
    {
     "name": "stdin",
     "output_type": "stream",
     "text": [
      "Enter a number 12\n"
     ]
    },
    {
     "data": {
      "text/plain": [
       "str"
      ]
     },
     "execution_count": 12,
     "metadata": {},
     "output_type": "execute_result"
    }
   ],
   "source": [
    "#Type Casting String to integer\n",
    "a= input(\"Enter a number\")\n",
    "type(a)"
   ]
  },
  {
   "cell_type": "code",
   "execution_count": 15,
   "id": "96f081aa-7993-474b-85bf-4796a9605e99",
   "metadata": {},
   "outputs": [
    {
     "data": {
      "text/plain": [
       "int"
      ]
     },
     "execution_count": 15,
     "metadata": {},
     "output_type": "execute_result"
    }
   ],
   "source": [
    "b= int(a)\n",
    "type(b)"
   ]
  },
  {
   "cell_type": "markdown",
   "id": "e67ca739-1dad-4b25-aff3-7cc71892712b",
   "metadata": {},
   "source": [
    "Q4. How do you write and execute a Python script from the command line.\n",
    "\n",
    "\n",
    "To write and execute a Python script from the command line, you can follow these steps:\n",
    "\n",
    "1. Open a Text Editor:\n",
    "\n",
    "Use a text editor (such as Notepad, VSCode, Atom, Sublime Text, etc.) to write your Python script.\n",
    "Write Your Python Script:\n",
    "\n",
    "Create a new file and write your Python code in it. Save the file with a .py extension. For example, you can create a file named myscript.py.\n",
    "python\n",
    "Copy code\n",
    "# myscript.py\n",
    "print(\"Hello, World!\")\n",
    "\n",
    "2. Open the Command Line or Terminal:\n",
    "\n",
    "Open the command line or terminal on your computer. This depends on your operating system:\n",
    "On Windows, you can use Command Prompt or PowerShell.\n",
    "On macOS or Linux, you can use Terminal.\n",
    "Navigate to the Script's Directory:\n",
    "\n",
    "3. Use the cd command to navigate to the directory where your Python script is located.\n",
    "\n",
    "bash\n",
    "Copy code\n",
    "cd path/to/your/script/directory\n",
    "Execute the Script:\n",
    "\n",
    "4. Run the script using the python command followed by the script's filename.\n",
    "\n",
    "bash\n",
    "Copy code\n",
    "python myscript.py\n",
    "If you are using Python 3, you may need to use python3 instead of python:\n",
    "\n",
    "bash\n",
    "Copy code\n",
    "python3 myscript.py\n",
    "This will execute your Python script, and you should see the output on the command line.\n",
    "\n",
    "Note: Make sure that Python is installed on your system and the Python executable is added to the system's PATH variable. If you encounter any issues, you may need to adjust your system's environment variables.\n"
   ]
  },
  {
   "cell_type": "markdown",
   "id": "ad0e794e-0360-4cd0-b8ec-89efe40f23c4",
   "metadata": {},
   "source": [
    "<h3> 5. Given a list my_list = [1, 2, 3, 4, 5], write the code to slice the list and obtain the sub-list [2, 3].\n",
    "</h3>"
   ]
  },
  {
   "cell_type": "code",
   "execution_count": 21,
   "id": "e2fa6cb1-9f7c-42a2-ab21-686deb6d5b48",
   "metadata": {},
   "outputs": [
    {
     "name": "stdout",
     "output_type": "stream",
     "text": [
      "[2, 3]\n"
     ]
    }
   ],
   "source": [
    "##Slicing sublist using list\n",
    "my_list = [1,2,3,4,5]\n",
    "print(my_list[1:3])\n",
    "\n",
    "    "
   ]
  },
  {
   "cell_type": "code",
   "execution_count": 26,
   "id": "0dcea57b-0dd1-4fa9-9dd5-cd2df34b62c8",
   "metadata": {},
   "outputs": [
    {
     "name": "stdout",
     "output_type": "stream",
     "text": [
      "[2, 3]\n"
     ]
    }
   ],
   "source": [
    "##Slicing sublist in reverse fashion\n",
    "my_list = [1,2,3,4,5]\n",
    "print(my_list[-4:-2])\n",
    "\n",
    "    "
   ]
  },
  {
   "cell_type": "markdown",
   "id": "d3a1f11b-182b-4dfd-ab79-57e789fd9494",
   "metadata": {},
   "source": [
    "<h3>Q6. What is a complex number in mathematics, and how is it represented in Python\n",
    "\n",
    "Complex number is combination of Real & Imaginary number.\n",
    "Eg: 4 + 5j\n",
    "Here, 4 is real number & 5j is imaginary number\n",
    "    </h3>"
   ]
  },
  {
   "cell_type": "code",
   "execution_count": 27,
   "id": "b1c8c125-f336-4f11-81c1-6c05d5da8490",
   "metadata": {},
   "outputs": [
    {
     "data": {
      "text/plain": [
       "complex"
      ]
     },
     "execution_count": 27,
     "metadata": {},
     "output_type": "execute_result"
    }
   ],
   "source": [
    "# Complex Number declaration & checking it's type\n",
    "a= 4+5j\n",
    "type(a)"
   ]
  },
  {
   "cell_type": "code",
   "execution_count": 31,
   "id": "3bf5dab6-c8a9-4710-9e41-f068e706c15e",
   "metadata": {},
   "outputs": [
    {
     "name": "stdout",
     "output_type": "stream",
     "text": [
      "4.0\n",
      "5.0\n"
     ]
    }
   ],
   "source": [
    "# Getting Real & Complex Number from given Complex Number\n",
    "real = a.real\n",
    "imaginary= a.imag\n",
    "print(real)\n",
    "print(imaginary)"
   ]
  },
  {
   "cell_type": "markdown",
   "id": "03035b63-711c-4548-ae27-bc303533ff74",
   "metadata": {},
   "source": [
    "<h3>7. What is the correct way to declare a variable named age and assign the value 25 to it?<h3>"
   ]
  },
  {
   "cell_type": "code",
   "execution_count": 32,
   "id": "4707d2d4-5369-4d56-8352-ea8d9b755264",
   "metadata": {},
   "outputs": [
    {
     "name": "stdout",
     "output_type": "stream",
     "text": [
      "25\n"
     ]
    }
   ],
   "source": [
    "#Variable declaration & assignment\n",
    "a= 25\n",
    "print(a)\n"
   ]
  },
  {
   "cell_type": "markdown",
   "id": "d9d4df86-ffe4-448d-bfe2-f5bac9e3a411",
   "metadata": {},
   "source": [
    "<h3>Q8. Declare a variable named price and assign the value 9.99 to it. What data type does this variable \n",
    "belong to</h3>"
   ]
  },
  {
   "cell_type": "code",
   "execution_count": 34,
   "id": "43c665cd-7b35-48a8-94ca-f81b17575daa",
   "metadata": {},
   "outputs": [
    {
     "data": {
      "text/plain": [
       "float"
      ]
     },
     "execution_count": 34,
     "metadata": {},
     "output_type": "execute_result"
    }
   ],
   "source": [
    "var = 9.99\n",
    "type(var)"
   ]
  },
  {
   "cell_type": "markdown",
   "id": "67f341a8-51ca-4f19-b71d-60fa43d0026b",
   "metadata": {},
   "source": [
    "<h3> Q9. Create a variable named name and assign your full name to it as a string. How would you print the \n",
    "value of this variable? </h3>"
   ]
  },
  {
   "cell_type": "code",
   "execution_count": 36,
   "id": "fa7d55ef-73dc-465d-ae81-621a3ccf34b5",
   "metadata": {},
   "outputs": [
    {
     "name": "stdout",
     "output_type": "stream",
     "text": [
      "Divya Mala Sinha\n"
     ]
    }
   ],
   "source": [
    "name = \"Divya Mala Sinha\"\n",
    "print(name)"
   ]
  },
  {
   "cell_type": "markdown",
   "id": "0be24613-51c3-4865-b872-09722c296ada",
   "metadata": {},
   "source": [
    "<h3> Q10. Given the string \"Hello, World!\", extract the substring \"World\".</h3>"
   ]
  },
  {
   "cell_type": "code",
   "execution_count": 38,
   "id": "ae601193-ce0d-4b48-b996-4f8d56d69220",
   "metadata": {},
   "outputs": [
    {
     "name": "stdout",
     "output_type": "stream",
     "text": [
      "World\n"
     ]
    }
   ],
   "source": [
    "string1 = \"Hello World\"\n",
    "print(string1[6:])"
   ]
  },
  {
   "cell_type": "markdown",
   "id": "b6beb050-0363-46b4-a0eb-b2c770c8be75",
   "metadata": {},
   "source": [
    "<h3>Q11. Create a variable named \"is_student\" and assign it a boolean value indicating whether you are \n",
    "currently a student or not\n",
    "    </h3>"
   ]
  },
  {
   "cell_type": "code",
   "execution_count": 41,
   "id": "cea59bef-772a-4203-97f9-d0472b453b80",
   "metadata": {},
   "outputs": [
    {
     "name": "stdout",
     "output_type": "stream",
     "text": [
      "Is a Student\n"
     ]
    }
   ],
   "source": [
    "is_student = True\n",
    "if is_student == 1:\n",
    "    print(\"Is a Student\")"
   ]
  },
  {
   "cell_type": "code",
   "execution_count": null,
   "id": "052255ff-e0f1-48ea-85a7-8435b2478976",
   "metadata": {},
   "outputs": [],
   "source": []
  }
 ],
 "metadata": {
  "kernelspec": {
   "display_name": "Python 3 (ipykernel)",
   "language": "python",
   "name": "python3"
  },
  "language_info": {
   "codemirror_mode": {
    "name": "ipython",
    "version": 3
   },
   "file_extension": ".py",
   "mimetype": "text/x-python",
   "name": "python",
   "nbconvert_exporter": "python",
   "pygments_lexer": "ipython3",
   "version": "3.10.8"
  }
 },
 "nbformat": 4,
 "nbformat_minor": 5
}
