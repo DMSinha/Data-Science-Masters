{
 "cells": [
  {
   "cell_type": "markdown",
   "id": "ddb31cd3-334b-42ad-9209-0eeebd2606ee",
   "metadata": {},
   "source": [
    "Q1. What is Exception in python? Write the difference between Exceptions and Syntax errors."
   ]
  },
  {
   "cell_type": "markdown",
   "id": "9ccd9da2-49ed-4b0d-8bf5-5b3298e0282d",
   "metadata": {},
   "source": [
    "In Python, an exception is an event that occurs during the execution of a program that disrupts the normal flow of instructions. When an exceptional situation arises, an exception is raised, and if it is not handled properly, it may lead to the termination of the program. Exceptions are a way to handle errors or unexpected conditions in a more controlled and graceful manner.\n",
    "\n",
    "Difference between Exceptions and Syntax Errors:\n",
    "\n",
    "1.Cause:\n",
    "\n",
    "Exception: Arises during the execution of a program, usually due to runtime conditions or unexpected situations.\n",
    "Syntax Error: Occurs during the parsing phase, before the program is executed, and is caused by violations of the language's syntax rules.\n",
    "\n",
    "2.Timing:\n",
    "\n",
    "Exception: Occurs during runtime while the program is executing.\n",
    "Syntax Error: Detected during the compilation or interpretation phase before the program runs.\n",
    "\n",
    "3.Handling:\n",
    "\n",
    "Exception: Can be handled using try, except, else, and finally blocks to gracefully manage unexpected situations.\n",
    "Syntax Error: Must be fixed by correcting the code before the program can be successfully executed."
   ]
  },
  {
   "cell_type": "markdown",
   "id": "7bb7752e-b759-4e13-8ead-1e3d74ee6418",
   "metadata": {},
   "source": [
    "Q2. What happens when an exception is not handled? Explain with an example"
   ]
  },
  {
   "cell_type": "markdown",
   "id": "2bc93a85-e397-4471-8fa0-48c4fa82034a",
   "metadata": {},
   "source": [
    "When an exceptional situation arises, an exception is raised, and if it is not handled properly, it may lead to the termination of the program. Exceptions are a way to handle errors or unexpected conditions in a more controlled and graceful manner.\n",
    "\n",
    "Below example showcases : division by zero error"
   ]
  },
  {
   "cell_type": "code",
   "execution_count": 2,
   "id": "d289ed4a-9e60-4b11-b8e8-bc1d08367e7f",
   "metadata": {},
   "outputs": [
    {
     "ename": "ZeroDivisionError",
     "evalue": "division by zero",
     "output_type": "error",
     "traceback": [
      "\u001b[0;31m---------------------------------------------------------------------------\u001b[0m",
      "\u001b[0;31mZeroDivisionError\u001b[0m                         Traceback (most recent call last)",
      "Cell \u001b[0;32mIn[2], line 1\u001b[0m\n\u001b[0;32m----> 1\u001b[0m \u001b[38;5;241;43m10\u001b[39;49m\u001b[38;5;241;43m/\u001b[39;49m\u001b[38;5;241;43m0\u001b[39;49m\n",
      "\u001b[0;31mZeroDivisionError\u001b[0m: division by zero"
     ]
    }
   ],
   "source": [
    "10/0"
   ]
  },
  {
   "cell_type": "markdown",
   "id": "c202d987-682d-4a7a-baf2-673a199265d9",
   "metadata": {},
   "source": [
    "Q3. Which Python statements are used to handle exceptions? Explain with an example"
   ]
  },
  {
   "cell_type": "markdown",
   "id": "727db156-8b4c-443e-a2f9-a9285eae9a86",
   "metadata": {},
   "source": [
    "try & except block helps handle exceptions.\n"
   ]
  },
  {
   "cell_type": "code",
   "execution_count": 5,
   "id": "a496c71c-c82f-4583-858c-48514753f1e5",
   "metadata": {},
   "outputs": [
    {
     "name": "stdout",
     "output_type": "stream",
     "text": [
      "Error division by zero\n"
     ]
    }
   ],
   "source": [
    "try:\n",
    "    10/0\n",
    "except ZeroDivisionError as e:\n",
    "    print(\"Error\", e)\n"
   ]
  },
  {
   "cell_type": "markdown",
   "id": "76411e2f-a822-4c0f-bec5-e5c377b8fd0f",
   "metadata": {},
   "source": [
    "Q4. Explain with example:#\n",
    " try, except, finally and raise"
   ]
  },
  {
   "cell_type": "code",
   "execution_count": 8,
   "id": "fc4c83b8-d18d-428a-9f1e-c5801cbcd02a",
   "metadata": {},
   "outputs": [
    {
     "name": "stdout",
     "output_type": "stream",
     "text": [
      "Except Block division by zero\n",
      "Exceution Completes\n"
     ]
    }
   ],
   "source": [
    "try:\n",
    "    10/0\n",
    "except ZeroDivisionError as e:\n",
    "    print(\"Except Block\", e)\n",
    "else:\n",
    "    print(\"This will be executed when try successfully completes\")\n",
    "finally:\n",
    "    print(\"Exceution Completes\")\n"
   ]
  },
  {
   "cell_type": "code",
   "execution_count": 9,
   "id": "8992d50c-7fb6-4f2e-afe9-a052eb49569b",
   "metadata": {},
   "outputs": [
    {
     "name": "stdin",
     "output_type": "stream",
     "text": [
      "Enter age -10\n"
     ]
    },
    {
     "name": "stdout",
     "output_type": "stream",
     "text": [
      "Exceution Completes\n"
     ]
    },
    {
     "ename": "ValueError",
     "evalue": "Age cannot be negative",
     "output_type": "error",
     "traceback": [
      "\u001b[0;31m---------------------------------------------------------------------------\u001b[0m",
      "\u001b[0;31mValueError\u001b[0m                                Traceback (most recent call last)",
      "Cell \u001b[0;32mIn[9], line 4\u001b[0m\n\u001b[1;32m      2\u001b[0m     age\u001b[38;5;241m=\u001b[39m \u001b[38;5;28mint\u001b[39m(\u001b[38;5;28minput\u001b[39m(\u001b[38;5;124m\"\u001b[39m\u001b[38;5;124mEnter age\u001b[39m\u001b[38;5;124m\"\u001b[39m))\n\u001b[1;32m      3\u001b[0m     \u001b[38;5;28;01mif\u001b[39;00m age\u001b[38;5;241m<\u001b[39m\u001b[38;5;241m0\u001b[39m:\n\u001b[0;32m----> 4\u001b[0m         \u001b[38;5;28;01mraise\u001b[39;00m \u001b[38;5;167;01mValueError\u001b[39;00m(\u001b[38;5;124m\"\u001b[39m\u001b[38;5;124mAge cannot be negative\u001b[39m\u001b[38;5;124m\"\u001b[39m)    \n\u001b[1;32m      5\u001b[0m \u001b[38;5;28;01mexcept\u001b[39;00m \u001b[38;5;167;01mZeroDivisionError\u001b[39;00m \u001b[38;5;28;01mas\u001b[39;00m e:\n\u001b[1;32m      6\u001b[0m     \u001b[38;5;28mprint\u001b[39m(\u001b[38;5;124m\"\u001b[39m\u001b[38;5;124mExcept Block\u001b[39m\u001b[38;5;124m\"\u001b[39m, e)\n",
      "\u001b[0;31mValueError\u001b[0m: Age cannot be negative"
     ]
    }
   ],
   "source": [
    "try:\n",
    "    age= int(input(\"Enter age\"))\n",
    "    if age<0:\n",
    "        raise ValueError(\"Age cannot be negative\")    \n",
    "except ZeroDivisionError as e:\n",
    "    print(\"Except Block\", e)\n",
    "else:\n",
    "    print(\"This will be executed when try successfully completes\")\n",
    "finally:\n",
    "    print(\"Exceution Completes\")\n"
   ]
  },
  {
   "cell_type": "markdown",
   "id": "6257dfd9-a11c-4867-90a4-ca54dae525eb",
   "metadata": {},
   "source": [
    "What are custom exception? why do we need custom exception? Eg:\n",
    "    \n",
    "Custom exceptions in Python are user-defined exceptions that allow you to create your own exception types with specific error messages and behaviors. By defining custom exceptions, you can make your code more expressive and handle exceptional situations in a way that is meaningful for your application.\n",
    "\n",
    "To create a custom exception, you typically define a new class that inherits from Python's built-in Exception class or one of its subclasses.\n",
    "\n",
    "Custom exceptions Need:\n",
    "\n",
    "Provide Specific Information: \n",
    "Group Related Errors: \n",
    "Improve Code Readability: "
   ]
  },
  {
   "cell_type": "code",
   "execution_count": null,
   "id": "033f2a12-73dc-4280-a6bf-9086e57e4610",
   "metadata": {},
   "outputs": [],
   "source": [
    "Custom Exception Class wi"
   ]
  },
  {
   "cell_type": "code",
   "execution_count": 12,
   "id": "3d570449-49c3-4143-8e57-9378c6546cb7",
   "metadata": {},
   "outputs": [
    {
     "name": "stdout",
     "output_type": "stream",
     "text": [
      "Custom Error: Negative values are not allowed\n"
     ]
    }
   ],
   "source": [
    "class CustomError(Exception):\n",
    "    def __init__(self, message=\"A custom error occurred\"):\n",
    "        self.message = message\n",
    "        super().__init__(self.message)\n",
    "\n",
    "# Example usage\n",
    "def my_function(value):\n",
    "    if value < 0:\n",
    "        raise CustomError(\"Negative values are not allowed\")\n",
    "    return value * 2\n",
    "\n",
    "# Example handling\n",
    "try:\n",
    "    result = my_function(-5)\n",
    "    print(\"Result:\", result)\n",
    "except CustomError as ce:\n",
    "    print(f\"Custom Error: {ce}\")"
   ]
  },
  {
   "cell_type": "code",
   "execution_count": null,
   "id": "e00bc32e-03d0-4972-9404-f10b81b36ece",
   "metadata": {},
   "outputs": [],
   "source": []
  }
 ],
 "metadata": {
  "kernelspec": {
   "display_name": "Python 3 (ipykernel)",
   "language": "python",
   "name": "python3"
  },
  "language_info": {
   "codemirror_mode": {
    "name": "ipython",
    "version": 3
   },
   "file_extension": ".py",
   "mimetype": "text/x-python",
   "name": "python",
   "nbconvert_exporter": "python",
   "pygments_lexer": "ipython3",
   "version": "3.10.8"
  }
 },
 "nbformat": 4,
 "nbformat_minor": 5
}
