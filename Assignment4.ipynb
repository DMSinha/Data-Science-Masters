{
 "cells": [
  {
   "cell_type": "markdown",
   "id": "f1a06b86-bbba-4869-8ae1-ab5cb6df6afc",
   "metadata": {},
   "source": [
    "Q1. Create a python program to sort the given list of tuples based on integer value using a \n",
    "lambda function. \n",
    "\n",
    "\n",
    "[('Sachin Tendulkar', 34357), ('Ricky Ponting', 27483), ('Jack Kallis', 25534), ('Virat Kohli', 24936)]"
   ]
  },
  {
   "cell_type": "code",
   "execution_count": 1,
   "id": "d2669974-90a5-47be-9385-64b1513500b8",
   "metadata": {},
   "outputs": [
    {
     "name": "stdout",
     "output_type": "stream",
     "text": [
      "[('Virat Kohli', 24936), ('Jack Kallis', 25534), ('Ricky Ponting', 27483), ('Sachin Tendulkar', 34357)]\n",
      "[('Virat Kohli', 24936), ('Jack Kallis', 25534), ('Ricky Ponting', 27483), ('Sachin Tendulkar', 34357)]\n",
      "[('Virat Kohli', 24936), ('Jack Kallis', 25534), ('Ricky Ponting', 27483), ('Sachin Tendulkar', 34357)]\n",
      "[('Virat Kohli', 24936), ('Jack Kallis', 25534), ('Ricky Ponting', 27483), ('Sachin Tendulkar', 34357)]\n"
     ]
    }
   ],
   "source": [
    "l1=[('Sachin Tendulkar', 34357), ('Ricky Ponting', 27483), ('Jack Kallis', 25534), ('Virat Kohli', 24936)]\n",
    "x = sorted(l1,key=lambda x:x[1])\n",
    "\n",
    "for i in x:\n",
    "    print(x)\n"
   ]
  },
  {
   "cell_type": "code",
   "execution_count": 2,
   "id": "4a82903a-20e8-4bc8-865c-e252cb687db6",
   "metadata": {},
   "outputs": [
    {
     "name": "stdout",
     "output_type": "stream",
     "text": [
      "Virat Kohli\n",
      "Jack Kallis\n",
      "Ricky Ponting\n",
      "Sachin Tendulkar\n"
     ]
    }
   ],
   "source": [
    "# Given list of tuples\n",
    "data = [('Sachin Tendulkar', 34357), ('Ricky Ponting', 27483), ('Jack Kallis', 25534), ('Virat Kohli', 24936)]\n",
    "\n",
    "# Sorting the list of tuples based on the second element of each tuple (integer value)\n",
    "sorted_names = sorted(data, key=lambda x: x[1])\n",
    "\n",
    "# Extracting only the names from the sorted list\n",
    "#a list comprehension is used to extract only the names from the sorted list of tuples (sorted_names)\n",
    "#for name, _ in sorted_names: This is a destructuring assignment within the list comprehension. \n",
    "#Each element in sorted_names is a tuple with two elements - the name (first element) and the corresponding integer value (second element). Using for name, _ allows us to unpack these values into the variables name and _ (underscore is a common convention for a variable name that is not going to be used).\n",
    "sorted_names_only = [name for name, _ in sorted_names]\n",
    "\n",
    "# Displaying the sorted names\n",
    "for name in sorted_names_only:\n",
    "    print(name)"
   ]
  },
  {
   "cell_type": "markdown",
   "id": "6df375ab-ef17-4293-ba96-6766c04ceb65",
   "metadata": {},
   "source": [
    "Q2. Write a Python Program to find the squares of all the numbers in the given list of integers using \n",
    "lambda and map functions.\n",
    "\n",
    "\n",
    "[1, 2, 3, 4, 5, 6, 7, 8, 9, 10]"
   ]
  },
  {
   "cell_type": "code",
   "execution_count": 10,
   "id": "f060e402-f9e9-4cd2-a57e-b6d25dead241",
   "metadata": {},
   "outputs": [
    {
     "name": "stdout",
     "output_type": "stream",
     "text": [
      "[1, 4, 9, 16, 25, 36, 49, 64, 81, 100]\n"
     ]
    }
   ],
   "source": [
    "\"\"\"This program defines a lambda function that squares a given number, \n",
    "then uses the map function to apply this lambda function to each element\n",
    "in the numbers list. Finally, it converts the map object to a list for display.\n",
    "The output will be a list containing the squares of the numbers.\"\"\"\n",
    "\n",
    "l1=[1, 2, 3, 4, 5, 6, 7, 8, 9, 10]\n",
    "\n",
    "square= map(lambda x:x**2,l1 )\n",
    "\n",
    "#print(square)\n",
    "sqare_list= list(square)\n",
    "print(sqare_list)"
   ]
  },
  {
   "cell_type": "markdown",
   "id": "8ebb7bfb-7b31-4337-8ee5-90189d2acc9c",
   "metadata": {},
   "source": [
    "Q3. Write a python program to convert the given list of integers into a tuple of strings. Use map and \n",
    "lambda functions\n",
    "\n",
    "\n",
    "Given String: [1, 2, 3, 4, 5, 6, 7, 8, 9, 10]\n",
    "\n",
    "Expected output: ('1', '2', '3', '4', '5', '6', '7', '8', '9', '10')"
   ]
  },
  {
   "cell_type": "code",
   "execution_count": 11,
   "id": "1238f23b-1e32-4d38-8a83-881540f4e207",
   "metadata": {},
   "outputs": [
    {
     "name": "stdout",
     "output_type": "stream",
     "text": [
      "['1', '2', '3', '4', '5', '6', '7', '8', '9', '10']\n"
     ]
    }
   ],
   "source": [
    "l1=[1, 2, 3, 4, 5, 6, 7, 8, 9, 10]\n",
    "Output = list(map(lambda x:str(x),l1))\n",
    "print(Output)"
   ]
  },
  {
   "cell_type": "markdown",
   "id": "d8d4a831-53a7-469b-a6d2-34b8bea2f082",
   "metadata": {},
   "source": [
    "Q4.  Write a python program using reduce function to compute the product of a list containing numbers \n",
    "from 1 to 25."
   ]
  },
  {
   "cell_type": "code",
   "execution_count": 13,
   "id": "aaa49d8a-014b-4e27-b7f6-8f832a4ae51d",
   "metadata": {},
   "outputs": [
    {
     "name": "stdout",
     "output_type": "stream",
     "text": [
      "Product of numbers from 1 to 25: 15511210043330985984000000\n"
     ]
    }
   ],
   "source": [
    "from functools import reduce\n",
    "# Generating a list of numbers from 1 to 25\n",
    "numbers = list(range(1, 26))\n",
    "product= reduce(lambda x,y: x*y, numbers)\n",
    "\n",
    "# Displaying the product\n",
    "print(\"Product of numbers from 1 to 25:\", product)"
   ]
  },
  {
   "cell_type": "markdown",
   "id": "017ca997-430c-437e-9b66-5d9b602628d7",
   "metadata": {},
   "source": [
    "Q5. Write a python program to filter the numbers in a given list that are divisible by 2 and 3 using the \n",
    "filter function.\n",
    "\n",
    "\n",
    "[2, 3, 6, 9, 27, 60, 90, 120, 55, 46"
   ]
  },
  {
   "cell_type": "code",
   "execution_count": 14,
   "id": "860eefa8-908d-40c0-b4e9-7f29c98bb415",
   "metadata": {},
   "outputs": [
    {
     "name": "stdout",
     "output_type": "stream",
     "text": [
      "[6, 60, 90, 120]\n"
     ]
    }
   ],
   "source": [
    "\"\"\"In this program, the lambda function checks if a number is divisible by both 2 and 3 \n",
    "using the modulo operator (%). The filter function is then used to apply this lambda function\n",
    "to each element in the numbers list, keeping only the elements that satisfy the condition. \n",
    "The result is converted to a list and displayed.\"\"\"\n",
    "\n",
    "# Given list of numbers\n",
    "numbers = [2, 3, 6, 9, 27, 60, 90, 120, 55, 46]\n",
    "\n",
    "# Using filter and lambda to filter numbers divisible by 2 and 3\n",
    "filtered_numbers = list(filter(lambda x: x % 2 == 0 and x % 3 == 0, numbers))\n",
    "\n",
    "# Displaying the filtered numbers\n",
    "print(filtered_numbers)\n"
   ]
  },
  {
   "cell_type": "markdown",
   "id": "69e9753b-7656-42f9-848a-684ba792205f",
   "metadata": {},
   "source": [
    "Q6. Write a python program to find palindromes in the given list of strings using lambda and filter \n",
    "function.\n",
    "\n",
    "\n",
    "['python', 'php', 'aba', 'radar', 'level']"
   ]
  },
  {
   "cell_type": "code",
   "execution_count": 15,
   "id": "67736680-a0ee-41d8-ac24-b6dd45a9f8f1",
   "metadata": {},
   "outputs": [
    {
     "name": "stdout",
     "output_type": "stream",
     "text": [
      "['php', 'aba', 'radar', 'level']\n"
     ]
    }
   ],
   "source": [
    "\n",
    "\n",
    "# Given list of strings\n",
    "strings = ['python', 'php', 'aba', 'radar', 'level']\n",
    "\n",
    "# Using filter and lambda to find palindromes\n",
    "palindromes = list(filter(lambda x: x == x[::-1], strings))\n",
    "\n",
    "# Displaying the palindromes\n",
    "print(palindromes)\n"
   ]
  },
  {
   "cell_type": "code",
   "execution_count": null,
   "id": "68acacde-5923-463d-b5fd-7a6cce7b904e",
   "metadata": {},
   "outputs": [],
   "source": []
  },
  {
   "cell_type": "code",
   "execution_count": null,
   "id": "2bd794b4-23ba-4fd6-a740-ba56f246a25f",
   "metadata": {},
   "outputs": [],
   "source": []
  },
  {
   "cell_type": "code",
   "execution_count": null,
   "id": "c5685fdf-9126-4002-81b8-4c0adbd21a37",
   "metadata": {},
   "outputs": [],
   "source": []
  },
  {
   "cell_type": "code",
   "execution_count": null,
   "id": "9e9c3dd4-953e-4b9e-84f0-ae6a3e401847",
   "metadata": {},
   "outputs": [],
   "source": []
  },
  {
   "cell_type": "code",
   "execution_count": null,
   "id": "e3a08b8b-469d-4fd5-acc5-0cba20a3a33b",
   "metadata": {},
   "outputs": [],
   "source": []
  },
  {
   "cell_type": "code",
   "execution_count": null,
   "id": "a01d6f85-f4d2-4dcb-8fed-85bd8133bde5",
   "metadata": {},
   "outputs": [],
   "source": []
  },
  {
   "cell_type": "code",
   "execution_count": null,
   "id": "4ff09437-8b75-42ab-b9fc-b4ffe83f97cb",
   "metadata": {},
   "outputs": [],
   "source": []
  },
  {
   "cell_type": "code",
   "execution_count": null,
   "id": "a61ac350-03d0-4460-8c7c-a24db6cb0446",
   "metadata": {},
   "outputs": [],
   "source": []
  },
  {
   "cell_type": "code",
   "execution_count": null,
   "id": "bbce75f7-b193-422f-aff7-4d33a7965bad",
   "metadata": {},
   "outputs": [],
   "source": []
  },
  {
   "cell_type": "code",
   "execution_count": null,
   "id": "84824d40-2031-4f21-ba0a-987928b5007f",
   "metadata": {},
   "outputs": [],
   "source": []
  },
  {
   "cell_type": "code",
   "execution_count": null,
   "id": "a715fb5a-3050-4fd2-b937-e79072299f6c",
   "metadata": {},
   "outputs": [],
   "source": []
  },
  {
   "cell_type": "code",
   "execution_count": null,
   "id": "3908cd47-63fa-407b-8aac-185ffbe3a7f4",
   "metadata": {},
   "outputs": [],
   "source": []
  },
  {
   "cell_type": "code",
   "execution_count": null,
   "id": "b2082f19-7f98-44f4-a6b2-ced33286f080",
   "metadata": {},
   "outputs": [],
   "source": []
  },
  {
   "cell_type": "code",
   "execution_count": null,
   "id": "a6a3b7de-42fc-40be-b9c4-2ed2412f2872",
   "metadata": {},
   "outputs": [],
   "source": []
  },
  {
   "cell_type": "code",
   "execution_count": null,
   "id": "f3381bbe-ec8b-4537-bd44-b2d127161416",
   "metadata": {},
   "outputs": [],
   "source": []
  },
  {
   "cell_type": "code",
   "execution_count": null,
   "id": "786735ea-0082-47bf-a7e9-67688cda47cb",
   "metadata": {},
   "outputs": [],
   "source": []
  },
  {
   "cell_type": "code",
   "execution_count": null,
   "id": "c8d089a4-ff00-4107-97d0-2c47f248fc20",
   "metadata": {},
   "outputs": [],
   "source": []
  },
  {
   "cell_type": "code",
   "execution_count": null,
   "id": "39d26ef3-6048-4894-9984-38ac62e658c2",
   "metadata": {},
   "outputs": [],
   "source": []
  },
  {
   "cell_type": "code",
   "execution_count": null,
   "id": "7b7bdcf0-2800-411e-ba62-a5c33d6340b4",
   "metadata": {},
   "outputs": [],
   "source": []
  },
  {
   "cell_type": "code",
   "execution_count": null,
   "id": "a207cd2d-2336-4a80-9178-41ef73ffc973",
   "metadata": {},
   "outputs": [],
   "source": []
  },
  {
   "cell_type": "code",
   "execution_count": null,
   "id": "a19c7e79-ce57-4e6e-a1c1-bb7589204515",
   "metadata": {},
   "outputs": [],
   "source": []
  },
  {
   "cell_type": "code",
   "execution_count": null,
   "id": "f58f71a4-ec0b-4012-be44-2e23d1199a9e",
   "metadata": {},
   "outputs": [],
   "source": []
  },
  {
   "cell_type": "code",
   "execution_count": null,
   "id": "e3c0bb47-9f2e-4c9f-8f86-fda1a60c2715",
   "metadata": {},
   "outputs": [],
   "source": []
  }
 ],
 "metadata": {
  "kernelspec": {
   "display_name": "Python 3 (ipykernel)",
   "language": "python",
   "name": "python3"
  },
  "language_info": {
   "codemirror_mode": {
    "name": "ipython",
    "version": 3
   },
   "file_extension": ".py",
   "mimetype": "text/x-python",
   "name": "python",
   "nbconvert_exporter": "python",
   "pygments_lexer": "ipython3",
   "version": "3.10.8"
  }
 },
 "nbformat": 4,
 "nbformat_minor": 5
}
