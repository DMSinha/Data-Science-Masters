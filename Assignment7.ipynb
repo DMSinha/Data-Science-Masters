{
 "cells": [
  {
   "cell_type": "markdown",
   "id": "47f4784b-d526-478e-b57b-72fb24d41217",
   "metadata": {},
   "source": [
    "1). What is multithreading in python? Why is it used? Name the module used to handle threads in python"
   ]
  },
  {
   "cell_type": "markdown",
   "id": "ca4f2ddf-7149-46a6-9361-a76a2e385fbf",
   "metadata": {},
   "source": [
    "Multithreading in Python is a technique used to run multiple threads (smallest unit of tasks or execution contexts) simultaneously. It allows for concurrent execution of two or more parts of a program for maximum utilization of CPU resources. This can be particularly useful for I/O-bound applications where the program spends a lot of time waiting for external events (such as network operations or disk I/O), thereby allowing other threads to execute during these wait times.\n",
    "\n",
    "Why is it used?\n",
    "Improved Application Responsiveness:\n",
    "\n",
    "By running tasks concurrently, especially in I/O-bound applications, the main program can remain responsive to user input while background tasks are being processed.\n",
    "Efficient Use of CPU Resources:\n",
    "\n",
    "In scenarios where tasks are waiting on I/O operations, other tasks can utilize the CPU, leading to better overall efficiency of the application.\n",
    "Simplifying Complex Operations:\n",
    "\n",
    "Complex operations that can be divided into smaller, independent tasks can be executed concurrently, potentially reducing the overall execution time.\n",
    "Concurrency in I/O-Bound Applications:\n",
    "\n",
    "For I/O-bound and network-bound applications, multithreading can significantly improve performance by overlapping I/O operations with computations.\n",
    "Module for Handling Threads in Python:\n",
    "The primary module used to handle threads in Python is the threading module. It provides a high-level interface for threading, allowing for the creation, synchronization, and management of threads. The threading module includes various classes and functions to work with threads, such as:\n",
    "\n",
    "Thread: A class representing an activity that is run in a separate thread of control.\n",
    "Lock: A primitive lock object to support synchronization between threads.\n",
    "Event, Condition, Semaphore, Barrier: These are synchronization primitives that help coordinate threads."
   ]
  },
  {
   "cell_type": "code",
   "execution_count": 6,
   "id": "b7c8743e-fa54-4d37-ba30-0a921123899d",
   "metadata": {},
   "outputs": [
    {
     "name": "stdout",
     "output_type": "stream",
     "text": [
      "0\n",
      "a\n",
      "1\n",
      "2\n",
      "b\n",
      "3\n",
      "c\n",
      "4\n",
      "d\n",
      "e\n",
      "Finished!\n"
     ]
    }
   ],
   "source": [
    "import threading\n",
    "import time\n",
    "\n",
    "def print_numbers():\n",
    "    for i in range(5):\n",
    "        time.sleep(1)\n",
    "        print(i)\n",
    "\n",
    "def print_letters():\n",
    "    for letter in 'abcde':\n",
    "            time.sleep(1.5)\n",
    "            print(letter)\n",
    "\n",
    "# Create threads\n",
    "t1 = threading.Thread(target=print_numbers)\n",
    "t2 = threading.Thread(target=print_letters)\n",
    "\n",
    "# Start threads\n",
    "t1.start()\n",
    "t2.start()\n",
    "\n",
    "# Wait for both threads to complete\n",
    "t1.join()\n",
    "t2.join()\n",
    "\n",
    "print(\"Finished!\")\n"
   ]
  },
  {
   "cell_type": "markdown",
   "id": "b74e309c-5726-4b55-8f32-cb5f3596a3a0",
   "metadata": {},
   "source": [
    "Why Multithreading used? Usage of activeCount(),currentThread(),enumerate()?\n",
    "\n",
    "The threading module in Python is used to create, manage, and control threads. Threads are smaller units of processes that can run concurrently, allowing Python applications to perform multiple operations at once. This is particularly useful for I/O-bound tasks, GUI applications, and situations where multitasking is required without the overhead of starting separate processes"
   ]
  },
  {
   "cell_type": "markdown",
   "id": "18877809-c99d-4f3f-82dd-4c898a28d3d5",
   "metadata": {},
   "source": [
    "The threading.activeCount() function returns the number of Thread objects currently alive. The returned count includes the main thread and excludes any daemon threads that have been marked to exit. This function is useful for monitoring or debugging purposes to see how many threads are running at any given moment"
   ]
  },
  {
   "cell_type": "code",
   "execution_count": 11,
   "id": "d864d950-0e97-4f1d-9fd1-b7ab6dc78ce3",
   "metadata": {},
   "outputs": [
    {
     "name": "stdout",
     "output_type": "stream",
     "text": [
      "Task running...\n",
      "Active threads: 9\n"
     ]
    }
   ],
   "source": [
    "import threading\n",
    "import time\n",
    "\n",
    "def task():\n",
    "    print(\"Task running...\")\n",
    "    time.sleep(2)\n",
    "\n",
    "threading.Thread(target=task).start()\n",
    "print(\"Active threads:\", threading.active_count())\n"
   ]
  },
  {
   "cell_type": "markdown",
   "id": "a587b055-d3d9-45bf-83f1-d67145d5988a",
   "metadata": {},
   "source": [
    "<h2>threading.currentThread()</h2>\n",
    "The threading.currentThread() function returns the current Thread object, corresponding to the caller's thread of control. This can be used to retrieve information about the thread that is currently executing, such as its name, status, or custom attributes."
   ]
  },
  {
   "cell_type": "code",
   "execution_count": 13,
   "id": "f865b35b-e4f9-4fb7-86d8-aed89eabed7c",
   "metadata": {},
   "outputs": [
    {
     "name": "stdout",
     "output_type": "stream",
     "text": [
      "Current thread name: MainThread\n"
     ]
    }
   ],
   "source": [
    "import threading\n",
    "\n",
    "def display_info():\n",
    "    current_thread = threading.current_thread()\n",
    "    print(f\"Current thread name: {current_thread.name}\")\n",
    "\n",
    "display_info()\n"
   ]
  },
  {
   "cell_type": "markdown",
   "id": "a15b3b7e-6e40-4198-90ce-7917b19c17fd",
   "metadata": {},
   "source": [
    "<h2>threading.enumerate()</h2>\n",
    "The threading.enumerate() function returns a list of all Thread objects currently alive. This includes the main thread, active child threads, and daemon threads that have not yet been terminated. It's useful for operations that need to act on or report the status of all threads, such as graceful shutdowns, debugging, or logging."
   ]
  },
  {
   "cell_type": "code",
   "execution_count": 14,
   "id": "5ca0e1d5-ba53-4fb7-ae6b-16f38ffb7856",
   "metadata": {},
   "outputs": [
    {
     "name": "stdout",
     "output_type": "stream",
     "text": [
      "Task running...\n",
      "Thread name: MainThread\n",
      "Thread name: IOPub\n",
      "Thread name: Heartbeat\n",
      "Thread name: Thread-3 (_watch_pipe_fd)\n",
      "Thread name: Thread-4 (_watch_pipe_fd)\n",
      "Thread name: Control\n",
      "Thread name: IPythonHistorySavingThread\n",
      "Thread name: Thread-2\n",
      "Thread name: Thread-16 (task)\n"
     ]
    }
   ],
   "source": [
    "import threading\n",
    "import time\n",
    "\n",
    "def task():\n",
    "    print(\"Task running...\")\n",
    "    time.sleep(2)\n",
    "\n",
    "threading.Thread(target=task).start()\n",
    "\n",
    "# Give the thread some time to start\n",
    "time.sleep(0.1)\n",
    "\n",
    "for thread in threading.enumerate():\n",
    "    print(f\"Thread name: {thread.name}\")\n"
   ]
  },
  {
   "cell_type": "markdown",
   "id": "0de7eb9e-0b83-4af9-ab74-18f50839229e",
   "metadata": {},
   "source": [
    "<h1>run()</h1>\n",
    "\n",
    "The run() method is the entry point for a thread. When you create a Thread instance, you pass it a target function and arguments, which will be executed by the thread when it starts. The run() method is called internally when the thread's start() method is invoked. It executes the target function passed to the thread. You can also override this method when you subclass Thread if you want to change the behavior of the thread."
   ]
  },
  {
   "cell_type": "code",
   "execution_count": 15,
   "id": "de172d26-e602-48ef-bab3-ac3492da60b1",
   "metadata": {},
   "outputs": [
    {
     "name": "stdout",
     "output_type": "stream",
     "text": [
      "Custom thread running\n"
     ]
    }
   ],
   "source": [
    "import threading\n",
    "\n",
    "class MyThread(threading.Thread):\n",
    "    def run(self):\n",
    "        print(\"Custom thread running\")\n",
    "\n",
    "t = MyThread()\n",
    "t.start()\n"
   ]
  },
  {
   "cell_type": "markdown",
   "id": "804b6397-d445-4207-bc75-ed0f327436a7",
   "metadata": {},
   "source": [
    "<h2>start()</h2>\n",
    "\n",
    "The start() method is used to start a thread. It initializes the thread and calls its run() method in a separate thread of control. Once a thread has been started using start(), it is considered \"alive\" and can be managed as a concurrent unit of execution until it finishes execution."
   ]
  },
  {
   "cell_type": "code",
   "execution_count": 16,
   "id": "af85d957-3dc2-4c85-b53d-017dd725aa38",
   "metadata": {},
   "outputs": [
    {
     "name": "stdout",
     "output_type": "stream",
     "text": [
      "Thread running\n"
     ]
    }
   ],
   "source": [
    "import threading\n",
    "\n",
    "def my_function():\n",
    "    print(\"Thread running\")\n",
    "\n",
    "t = threading.Thread(target=my_function)\n",
    "t.start()\n"
   ]
  },
  {
   "cell_type": "markdown",
   "id": "7dc241a0-d095-4568-beb4-21a361f0d073",
   "metadata": {},
   "source": [
    "<h2>join()</h2>\n",
    "\n",
    "The join() method is used to make the calling thread wait until the thread whose join() method is called is terminated. This is useful when you need to wait for threads to complete before proceeding with execution. Using join() ensures that the main program waits for all threads to finish before it terminates."
   ]
  },
  {
   "cell_type": "code",
   "execution_count": 18,
   "id": "e7050b9b-79c9-4114-ab05-80753400e3a5",
   "metadata": {},
   "outputs": [
    {
     "name": "stdout",
     "output_type": "stream",
     "text": [
      "Thread started\n",
      "Thread ending\n",
      "Main thread continues after t completes\n"
     ]
    }
   ],
   "source": [
    "import threading\n",
    "import time\n",
    "\n",
    "def my_function():\n",
    "    print(\"Thread started\")\n",
    "    time.sleep(2)\n",
    "    print(\"Thread ending\")\n",
    "\n",
    "t = threading.Thread(target=my_function)\n",
    "t.start()\n",
    "t.join()  # Main thread will wait for t to complete\n",
    "print(\"Main thread continues after t completes\")\n"
   ]
  },
  {
   "cell_type": "markdown",
   "id": "dd627216-b0a7-4e2d-a112-90dc4dd8274c",
   "metadata": {},
   "source": [
    "<h2>isAlive()</h2>\n",
    "\n",
    "The isAlive() method (renamed to is_alive() in Python 3) checks whether a thread is still executing. It returns True if the thread is alive (meaning it has been started and has not yet finished execution) and False if the thread has completed its execution or has not yet been started."
   ]
  },
  {
   "cell_type": "code",
   "execution_count": 20,
   "id": "ec85c8b0-a486-4156-9246-67b1b12aeccc",
   "metadata": {},
   "outputs": [
    {
     "name": "stdout",
     "output_type": "stream",
     "text": [
      "Thread running\n",
      "Is thread alive? True\n",
      "Is thread alive? False\n"
     ]
    }
   ],
   "source": [
    "import threading\n",
    "import time\n",
    "\n",
    "def my_function():\n",
    "    print(\"Thread running\")\n",
    "    time.sleep(2)\n",
    "\n",
    "t = threading.Thread(target=my_function)\n",
    "t.start()\n",
    "print(\"Is thread alive?\", t.is_alive())\n",
    "time.sleep(3)  # Wait for the thread to complete\n",
    "print(\"Is thread alive?\", t.is_alive())\n"
   ]
  },
  {
   "cell_type": "code",
   "execution_count": 23,
   "id": "c75cd803-df01-4021-adea-d882bed0d35b",
   "metadata": {},
   "outputs": [
    {
     "name": "stdout",
     "output_type": "stream",
     "text": [
      "Square of 1 is 1\n",
      "Cube of 1 is 1\n",
      "Square of 2 is 4Cube of 2 is 8\n",
      "\n",
      "Cube of 3 is 27\n",
      "Square of 3 is 9\n",
      "Cube of 4 is 64Square of 4 is 16\n",
      "\n",
      "Square of 5 is 25Cube of 5 is 125\n",
      "\n",
      "Both threads have finished execution.\n"
     ]
    }
   ],
   "source": [
    "\"\"\"python program to create two threads. Thread one must print the list of squares and thread\n",
    "two must print the list of cubes\"\"\"\n",
    "\n",
    "import threading\n",
    "\n",
    "# Define a function to print squares of numbers\n",
    "def print_squares(numbers):\n",
    "    for number in numbers:\n",
    "        print(f\"Square of {number} is {number ** 2}\")\n",
    "        time.sleep(2)\n",
    "\n",
    "# Define a function to print cubes of numbers\n",
    "def print_cubes(numbers):\n",
    "    for number in numbers:\n",
    "        print(f\"Cube of {number} is {number ** 3}\")\n",
    "        time.sleep(2)\n",
    "\n",
    "# List of numbers\n",
    "numbers = [1, 2, 3, 4, 5]\n",
    "\n",
    "# Create threads\n",
    "thread1 = threading.Thread(target=print_squares, args=(numbers,))\n",
    "thread2 = threading.Thread(target=print_cubes, args=(numbers,))\n",
    "\n",
    "# Start threads\n",
    "thread1.start()\n",
    "thread2.start()\n",
    "\n",
    "# Wait for both threads to complete\n",
    "thread1.join()\n",
    "thread2.join()\n",
    "\n",
    "print(\"Both threads have finished execution.\")\n"
   ]
  },
  {
   "cell_type": "markdown",
   "id": "50b33ed3-8c7a-4880-a6db-e87953ea1748",
   "metadata": {},
   "source": [
    "<h2>Advantages of Multithreading</h2>\n",
    "Improved Application Responsiveness:\n",
    "\n",
    "Multithreading can allow an application to remain responsive to input. In graphical user interfaces (GUIs), for example, separate threads for user interaction and background tasks prevent the application from freezing.\n",
    "Better Resource Utilization:\n",
    "\n",
    "By allowing multiple threads to run concurrently, multithreading can lead to more efficient use of CPU resources, as threads can be executed while waiting for I/O operations or other resource-intensive tasks to complete.\n",
    "Increased Performance:\n",
    "\n",
    "On multi-core processors, multithreading can significantly improve the performance of an application by distributing tasks across multiple cores, executing them in parallel.\n",
    "Simplified Program Structure:\n",
    "\n",
    "In some scenarios, using multithreading can simplify the design of a program by separating it into independently running parts that perform different tasks simultaneously.\n",
    "Efficient Use of Time:\n",
    "\n",
    "Multithreading can reduce the time required to perform complex operations by allowing tasks to be divided and executed concurrently, rather than sequentially.\n",
    "\n",
    "<h2>Disadvantages of Multithreading</h2>\n",
    "Complexity in Design and Debugging:\n",
    "\n",
    "Writing multithreaded applications is inherently more complex than single-threaded ones. Debugging can also be more challenging due to the non-deterministic nature of thread execution.\n",
    "Synchronization Issues:\n",
    "\n",
    "Access to shared resources must be carefully managed to prevent race conditions, deadlocks, and other synchronization issues. This often requires intricate and precise control mechanisms, such as locks, semaphores, or monitors.\n",
    "Overhead:\n",
    "\n",
    "Managing threads involves overhead, both in terms of memory and CPU. Each thread consumes system resources for its operation and context switching, which can impact performance, especially if the number of threads is very high or if threads are managed inefficiently.\n",
    "Potential for Performance Bottlenecks:\n",
    "\n",
    "Improper use of multithreading can lead to situations where threads may spend a significant amount of time waiting on resources, negating the benefits of concurrent execution and, in some cases, even degrading performance.\n",
    "Difficulty in Testing:\n",
    "\n",
    "Testing multithreaded applications can be more difficult than testing single-threaded ones due to the potential for intermittent bugs and the challenges in replicating specific thread execution sequences.\n",
    "Scalability Issues:\n",
    "\n",
    "While multithreading can improve performance on multi-core systems, the scalability is limited by the number of available cores and the ability of the application to efficiently parallelize tasks."
   ]
  },
  {
   "cell_type": "markdown",
   "id": "c1f6c231-19cf-4b6a-96e3-e1933850bdcc",
   "metadata": {},
   "source": [
    "Deadlocks and race conditions are two critical issues that can occur in concurrent programming, where multiple processes or threads operate simultaneously. Understanding both is crucial for developing robust, efficient, and error-free concurrent applications.\n",
    "\n",
    "<h2>Deadlocks</h2>\n",
    "A deadlock is a situation in concurrent programming where two or more processes or threads are waiting indefinitely for resources or conditions that are held by each other, causing all of them to stop executing. This situation arises when the following four conditions are met simultaneously:\n",
    "\n",
    "<h4>Mutual Exclusion:</h4> At least one resource must be held in a non-shareable mode; that is, only one process can use the resource at any given time.\n",
    "<h4>Hold and Wait:</h4> A process is holding at least one resource and waiting to acquire additional resources that are currently being held by other processes.\n",
    "<h4>No Preemption:</h4> Resources cannot be forcibly removed from the processes holding them until the resources are used to completion.\n",
    "<h4>Circular Wait:</h4> There exists a set of processes {P1, P2, ..., Pn}, such that P1 is waiting for a resource held by P2, P2 is waiting for a resource held by P3, and so on until Pn is waiting for a resource held by P1, forming a circular chain of processes.\n",
    "<h4>Example: </h4>Consider two threads, T1 and T2, and two resources, R1 and R2. T1 holds R1 and waits for R2, while T2 holds R2 and waits for R1. Neither thread can proceed, leading to a deadlock.\n",
    "\n",
    "<h2>Race Conditions</h2>\n",
    "A race condition occurs when the outcome of a computation depends on the non-deterministic ordering of the execution of two or more threads or processes. This usually happens when these processes are accessing shared data or resources without adequate synchronization, leading to unpredictable and erroneous behavior.\n",
    "\n",
    "<h3>Race conditions arise from three main factors:</h3>\n",
    "\n",
    "<h4>Concurrency: </h4>Multiple processes or threads executing at the same time.\n",
    "<h4>Shared Resources:</h4> Processes or threads share data or resources.\n",
    "<h4>Changes in the Timing of Execution:</h4> The exact order in which instructions are executed varies, leading to different outcomes.\n",
    "Example: Suppose two threads, T1 and T2, increment the same global counter variable, C. If T1 reads C as 10 and then T2 reads C as 10 before T1 increments and writes back the value 11, T2 might also increment the original value 10 and write back 11, rather than 12 as expected. This happens because the operations of reading, incrementing, and writing back are not atomic and can be interleaved in a way that leads to incorrect results.\n",
    "\n",
    "Mitigation Strategies\n",
    "Deadlocks can be prevented or avoided by ensuring that at least one of the necessary conditions for deadlock does not hold, using strategies like resource allocation ordering, resource request denial, and deadlock detection and recovery mechanisms.\n",
    "Race Conditions can be mitigated by ensuring proper synchronization when accessing shared resources, using mechanisms like mutexes (mutual exclusions), semaphores, and locks to control access to shared resources.\n",
    "Understanding and addressing deadlocks and race conditions are essential for developing reliable and efficient multithreaded and multiprocess applications."
   ]
  },
  {
   "cell_type": "code",
   "execution_count": null,
   "id": "37f66169-4290-4c4d-ab5f-0499de187fde",
   "metadata": {},
   "outputs": [],
   "source": []
  }
 ],
 "metadata": {
  "kernelspec": {
   "display_name": "Python 3 (ipykernel)",
   "language": "python",
   "name": "python3"
  },
  "language_info": {
   "codemirror_mode": {
    "name": "ipython",
    "version": 3
   },
   "file_extension": ".py",
   "mimetype": "text/x-python",
   "name": "python",
   "nbconvert_exporter": "python",
   "pygments_lexer": "ipython3",
   "version": "3.10.8"
  }
 },
 "nbformat": 4,
 "nbformat_minor": 5
}
