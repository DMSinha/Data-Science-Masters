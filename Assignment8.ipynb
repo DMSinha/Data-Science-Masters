{
 "cells": [
  {
   "cell_type": "markdown",
   "id": "021258bf-c3f2-46a3-a2b2-3460d86e0c72",
   "metadata": {},
   "source": [
    "Q1. What is multiprocessing in python? Why is it useful?"
   ]
  },
  {
   "cell_type": "markdown",
   "id": "6df847b3-4b31-4f96-afff-5228a49aea42",
   "metadata": {},
   "source": [
    "<h2>What is Multiprocessing in Python?</h2>\n",
    "Multiprocessing in Python is a module that allows the creation of processes which can run concurrently, each having its own Python interpreter and memory space. This module provides an API that abstracts away the complexities of creating and managing new processes, offering a way to parallelize Python code efficiently. It is part of the standard library, so it's available in Python without needing to install external packages.\n",
    "\n",
    "<h2>Why is Multiprocessing Useful?</h2>\n",
    "Overcoming the Global Interpreter Lock (GIL): Python has a Global Interpreter Lock (GIL) that allows only one thread to execute Python bytecode at a time, even on multi-core processors. This makes traditional threading an inefficient method for CPU-bound tasks due to the overhead of context switching and the GIL. Multiprocessing bypasses the GIL by using separate memory spaces and processes, enabling full utilization of multiple cores for CPU-intensive tasks.\n",
    "\n",
    "Improved Performance for CPU-bound Tasks: For CPU-bound operations, such as computations that require heavy processing, multiprocessing can significantly improve performance by distributing the workload across multiple CPUs or cores. This parallel execution can lead to faster completion times compared to sequential execution or multithreading under the GIL.\n",
    "\n",
    "Isolation and Stability: Since each process in multiprocessing has its own Python interpreter and memory space, a failure in one process (such as a memory leak or a segmentation fault) does not directly affect the others. This isolation can lead to increased stability in applications where one component's failure should not compromise the entire system.\n",
    "\n",
    "Simplified Sharing of Data Between Processes: While processes do not share memory and have their own separate memory space, the multiprocessing module provides mechanisms, such as Queue, Pipe, and shared memory objects (Value, Array), for processes to exchange information and data. This simplifies the development of concurrent applications that require inter-process communication (IPC).\n",
    "\n",
    "Scalability: Multiprocessing can make an application scalable across multiple processors and cores. As hardware with more cores becomes available, applications designed with multiprocessing can take advantage of the additional processing power without significant changes to the codebase.\n",
    "\n",
    "In summary, multiprocessing in Python is a powerful tool for parallelizing CPU-bound tasks, overcoming the limitations of the GIL, improving application performance and reliability, and making efficient use of modern multi-core processors."
   ]
  },
  {
   "cell_type": "markdown",
   "id": "8c0cde4e-19e9-4b13-8064-b03056dde1fb",
   "metadata": {},
   "source": [
    "Q2. What are the differences between multiprocessing and multithreading?"
   ]
  },
  {
   "cell_type": "markdown",
   "id": "6bfdcbf9-b86f-4c6a-bcce-8cd35d547c02",
   "metadata": {},
   "source": [
    "Multiprocessing and multithreading are both techniques used in concurrent programming to achieve parallelism and execute multiple tasks simultaneously. However, they differ in their approach, use cases, and how they handle concurrency.\n",
    "\n",
    "1. Definition:\n",
    "Multiprocessing: Involves the execution of multiple processes, where each process has its own memory space and runs independently. Processes do not share memory by default, and communication between processes typically involves inter-process communication (IPC) mechanisms.\n",
    "Multithreading: Involves the execution of multiple threads within the same process, sharing the same memory space. Threads are lighter-weight than processes and share resources such as code and data.\n",
    "2. Memory Space:\n",
    "Multiprocessing: Each process has its own separate memory space. Processes do not share memory by default, which avoids common issues like data corruption due to simultaneous access.\n",
    "Multithreading: All threads within a process share the same memory space, which simplifies communication but introduces the risk of data corruption and requires explicit synchronization mechanisms.\n",
    "3. Communication:\n",
    "Multiprocessing: Communication between processes is typically done using IPC mechanisms, such as pipes, queues, and shared memory objects. Processes are isolated, and communication is explicit.\n",
    "Multithreading: Threads within the same process share memory and can communicate through shared variables. However, this shared state can lead to race conditions and requires synchronization mechanisms like locks to avoid data corruption.\n",
    "4. GIL (Global Interpreter Lock):\n",
    "Multiprocessing: Bypasses the GIL since each process has its own Python interpreter and memory space. Multiple processes can execute Python bytecode simultaneously.\n",
    "Multithreading: Affected by the GIL, which allows only one thread to execute Python bytecode at a time. This limits the effectiveness of multithreading for CPU-bound tasks.\n",
    "5. Performance:\n",
    "Multiprocessing: Can provide better performance for CPU-bound tasks by utilizing multiple processors or cores effectively. Well-suited for parallelizing computations.\n",
    "Multithreading: May not offer significant performance improvements for CPU-bound tasks due to the GIL restrictions. More suitable for I/O-bound tasks where waiting for external events is common.\n",
    "6. Resource Overhead:\n",
    "Multiprocessing: Involves higher resource overhead due to separate memory spaces for each process. Creating and managing processes can be more expensive.\n",
    "Multithreading: Has lower resource overhead as threads within the same process share resources. Creating and managing threads are generally lighter-weight operations.\n",
    "7. Isolation:\n",
    "Multiprocessing: Provides better isolation between processes, making them less susceptible to issues like shared resource conflicts and crashes in one process affecting others.\n",
    "Multithreading: Has less isolation, and issues in one thread (e.g., memory corruption) can potentially impact the entire process.\n",
    "8. Scalability:\n",
    "Multiprocessing: Offers better scalability, especially on systems with multiple processors or cores, as each process can run independently.\n",
    "Multithreading: Limited scalability due to the GIL, which restricts the concurrent execution of Python bytecode in multiple threads.\n",
    "In summary, the choice between multiprocessing and multithreading depends on the nature of the tasks, the desired level of isolation, and the specific requirements of the application. Multiprocessing is generally more suitable for CPU-bound tasks, while multithreading is often used for I/O-bound tasks and situations where shared memory and lightweight communication between threads are advantageous."
   ]
  },
  {
   "cell_type": "markdown",
   "id": "4bb5415f-5a76-492a-8e3c-fff7f69193e3",
   "metadata": {},
   "source": [
    "Q3. Write a python code to create a process using the multiprocessing module."
   ]
  },
  {
   "cell_type": "code",
   "execution_count": 2,
   "id": "c2bb1742-dac6-4771-b053-2d2e705406f4",
   "metadata": {},
   "outputs": [
    {
     "name": "stdout",
     "output_type": "stream",
     "text": [
      "Process A (ID: 1949) is running.\n",
      "Process B (ID: 1952) is running.\n",
      "Process A is done.\n",
      "Process B is done.\n",
      "Main process is done.\n"
     ]
    }
   ],
   "source": [
    "\"\"\"The code includes the if __name__ == \"__main__\": block, which is a common practice when using the multiprocessing module to prevent potential issues on certain platforms (e.g., Windows) when pickling functions.\"\"\"\n",
    "\n",
    "import multiprocessing\n",
    "import os\n",
    "import time\n",
    "\n",
    "# Function to be executed by the process\n",
    "def print_info(process_name):\n",
    "    print(f\"Process {process_name} (ID: {os.getpid()}) is running.\")\n",
    "    time.sleep(3)\n",
    "    print(f\"Process {process_name} is done.\")\n",
    "\n",
    "if __name__ == \"__main__\":\n",
    "    # Create two processes\n",
    "    process1 = multiprocessing.Process(target=print_info, args=(\"A\",))\n",
    "    process2 = multiprocessing.Process(target=print_info, args=(\"B\",))\n",
    "\n",
    "    # Start the processes\n",
    "    process1.start()\n",
    "    process2.start()\n",
    "\n",
    "    # Wait for both processes to complete\n",
    "    process1.join()\n",
    "    process2.join()\n",
    "\n",
    "    print(\"Main process is done.\")\n"
   ]
  },
  {
   "cell_type": "markdown",
   "id": "d394f7a9-bb43-4eff-b28e-4f13cc617ec7",
   "metadata": {},
   "source": [
    "<h3>Multiprocessing Pool</h3>\n",
    "\n",
    "\n",
    "In Python's multiprocessing module, a multiprocessing pool is a high-level abstraction that provides a convenient way to parallelize the execution of a function across multiple input values or tasks. The pool distributes the tasks among a specified number of worker processes, allowing them to run concurrently. The primary class used for creating multiprocessing pools is multiprocessing.Pool.\n",
    "\n",
    "Key Characteristics of Multiprocessing Pool:\n",
    "Parallel Execution:\n",
    "\n",
    "The pool allows parallel execution of a function across multiple inputs by distributing the tasks among the available worker processes.\n",
    "Ease of Use:\n",
    "\n",
    "It simplifies the process of parallelizing tasks by abstracting away the details of creating and managing individual processes. Developers can focus on the logic of the task and let the pool handle the distribution of work.\n",
    "Task Distribution:\n",
    "\n",
    "The pool distributes tasks across the worker processes, with each process receiving a subset of the input values. This is particularly useful for tasks that can be performed independently and in parallel.\n",
    "Efficient Resource Utilization:\n",
    "\n",
    "The pool automatically manages the worker processes, allowing efficient utilization of available CPU cores or processors. It handles the creation and termination of processes as needed.\n",
    "\n",
    "Advantages of Using Multiprocessing Pool:\n",
    "Efficiency for CPU-Bound Tasks:\n",
    "\n",
    "Multiprocessing pools are particularly useful for CPU-bound tasks, where the workload can be divided among multiple processes, taking advantage of multi-core systems.\n",
    "Simplified Parallelization:\n",
    "\n",
    "The pool abstracts away the complexity of managing individual processes, making it easier for developers to parallelize tasks without dealing with low-level details.\n",
    "Improved Performance:\n",
    "\n",
    "By distributing tasks across multiple processes, the pool can lead to improved performance, especially for tasks that can be executed concurrently.\n",
    "Automatic Resource Management:\n",
    "\n",
    "The pool automatically manages the creation and termination of worker processes, making efficient use of available system resources.\n",
    "Scalability:\n",
    "\n",
    "Multiprocessing pools are scalable, allowing developers to parallelize tasks across a variable number of worker processes based on the available hardware.\n",
    "\n",
    "In summary, a multiprocessing pool in Python is a convenient and efficient tool for parallelizing tasks, making it easier to leverage the full processing power of multi-core systems for CPU-bound operations."
   ]
  },
  {
   "cell_type": "code",
   "execution_count": 3,
   "id": "fa52ef1b-ae37-41c3-a380-8965175f121d",
   "metadata": {},
   "outputs": [
    {
     "name": "stdout",
     "output_type": "stream",
     "text": [
      "Original values: [1, 2, 3, 4, 5]\n",
      "Squared values: [1, 4, 9, 16, 25]\n"
     ]
    }
   ],
   "source": [
    "\"\"\"Q5. How can we create a pool of worker processes in python using the multiprocessing module?\"\"\"\n",
    "\n",
    "import multiprocessing\n",
    "\n",
    "# Function to be parallelized\n",
    "def square(x):\n",
    "    return x ** 2\n",
    "\n",
    "if __name__ == \"__main__\":\n",
    "    # Create a multiprocessing pool with 3 worker processes\n",
    "    with multiprocessing.Pool(processes=3) as pool:\n",
    "        # Input values\n",
    "        values = [1, 2, 3, 4, 5]\n",
    "\n",
    "        # Apply the 'square' function to each value using the pool\n",
    "        results = pool.map(square, values)\n",
    "\n",
    "    # Output the results\n",
    "    print(\"Original values:\", values)\n",
    "    print(\"Squared values:\", results)\n"
   ]
  },
  {
   "cell_type": "markdown",
   "id": "da26087d-59e3-4525-bd66-6f55f4ee7d60",
   "metadata": {},
   "source": [
    "Q6. Write a python program to create 4 processes, each process should print a different number using the\n",
    "multiprocessing module in python."
   ]
  },
  {
   "cell_type": "code",
   "execution_count": 4,
   "id": "111bf9d8-33f7-4774-b248-9755a5a8a869",
   "metadata": {},
   "outputs": [
    {
     "name": "stdout",
     "output_type": "stream",
     "text": [
      "Process ID: 2219 - Number: 1\n",
      "Process ID: 2222 - Number: 2\n",
      "Process ID: 2229 - Number: 3\n",
      "Process ID: 2232 - Number: 4\n",
      "Main process is done.\n"
     ]
    }
   ],
   "source": [
    "import multiprocessing\n",
    "\n",
    "# Function to print a number\n",
    "def print_number(number):\n",
    "    print(f\"Process ID: {multiprocessing.current_process().pid} - Number: {number}\")\n",
    "\n",
    "if __name__ == \"__main__\":\n",
    "    # Create 4 processes\n",
    "    processes = []\n",
    "\n",
    "    for i in range(1, 5):\n",
    "        process = multiprocessing.Process(target=print_number, args=(i,))\n",
    "        processes.append(process)\n",
    "\n",
    "    # Start each process\n",
    "    for process in processes:\n",
    "        process.start()\n",
    "\n",
    "    # Wait for each process to complete\n",
    "    for process in processes:\n",
    "        process.join()\n",
    "\n",
    "    print(\"Main process is done.\")\n"
   ]
  },
  {
   "cell_type": "code",
   "execution_count": null,
   "id": "46d57e1e-a9c5-4891-9755-a055ec4fe19f",
   "metadata": {},
   "outputs": [],
   "source": []
  }
 ],
 "metadata": {
  "kernelspec": {
   "display_name": "Python 3 (ipykernel)",
   "language": "python",
   "name": "python3"
  },
  "language_info": {
   "codemirror_mode": {
    "name": "ipython",
    "version": 3
   },
   "file_extension": ".py",
   "mimetype": "text/x-python",
   "name": "python",
   "nbconvert_exporter": "python",
   "pygments_lexer": "ipython3",
   "version": "3.10.8"
  }
 },
 "nbformat": 4,
 "nbformat_minor": 5
}
