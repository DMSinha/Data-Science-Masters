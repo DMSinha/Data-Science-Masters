{
 "cells": [
  {
   "cell_type": "markdown",
   "id": "256596ba-146a-4433-8325-cedec8282e55",
   "metadata": {},
   "source": [
    "<h3>Q1. Which keyword is used to create a function? Create a function to return a list of odd numbers in the\n",
    "range of 1 to 25. \n",
    "\n",
    "   <p> def keyword is used to create a function.</p>\n",
    "</h3>"
   ]
  },
  {
   "cell_type": "code",
   "execution_count": 3,
   "id": "31b41dfe-8681-4a4c-97cf-0ff57f019e51",
   "metadata": {},
   "outputs": [
    {
     "name": "stdout",
     "output_type": "stream",
     "text": [
      "Odd Number: 1\n",
      "Odd Number: 3\n",
      "Odd Number: 5\n",
      "Odd Number: 7\n",
      "Odd Number: 9\n",
      "Odd Number: 11\n",
      "Odd Number: 13\n",
      "Odd Number: 15\n",
      "Odd Number: 17\n",
      "Odd Number: 19\n",
      "Odd Number: 21\n",
      "Odd Number: 23\n",
      "Odd Number: 25\n"
     ]
    }
   ],
   "source": [
    "def oddNumber():\n",
    "\n",
    "    for i in range(26):\n",
    "        if i%2!=0:\n",
    "            print(\"Odd Number:\", i)\n",
    "\n",
    "oddNumber()\n",
    "        \n",
    "        "
   ]
  },
  {
   "cell_type": "markdown",
   "id": "dd6736ea-60fa-47cb-a0d4-e737a2801e88",
   "metadata": {},
   "source": [
    "<h3> Q2. Why *args and **kwargs is used in some functions? Create a function each for *args and **kwargs to\n",
    "demonstrate their use. \n",
    "<p><h4>\n",
    "*args keyword is used with function to take multiple inputs in form of tuple. It returns value in form of tuples.\n",
    "\n",
    "**kwargs keyword is used with function, to take any number of input in Key Value Pair. And **kwargs returns dictionary. </p></h4>\n",
    "</h3>"
   ]
  },
  {
   "cell_type": "code",
   "execution_count": 5,
   "id": "e17bf49b-8894-44d9-8296-0f77e7483cb6",
   "metadata": {},
   "outputs": [
    {
     "name": "stdout",
     "output_type": "stream",
     "text": [
      "name: John\n",
      "age: 25\n",
      "city: Exampleville\n"
     ]
    }
   ],
   "source": [
    "##kwargs keyword use\n",
    "def example_function(**kwargs):\n",
    "    for key, value in kwargs.items():\n",
    "        print(f\"{key}: {value}\")\n",
    "\n",
    "example_function(name=\"John\", age=25, city=\"Exampleville\")"
   ]
  },
  {
   "cell_type": "code",
   "execution_count": 11,
   "id": "2b437bea-5611-4f88-b1f0-aa20cb4448cf",
   "metadata": {},
   "outputs": [
    {
     "name": "stdout",
     "output_type": "stream",
     "text": [
      "name\n",
      "age\n",
      "city\n"
     ]
    }
   ],
   "source": [
    "##kwargs keyword use: Getting only Keys\n",
    "def example_function(**kwargs):\n",
    "    for key in kwargs.keys():\n",
    "        print(f\"{key}\")\n",
    "\n",
    "example_function(name=\"John\", age=25, city=\"Exampleville\")"
   ]
  },
  {
   "cell_type": "code",
   "execution_count": 12,
   "id": "deda750c-6e82-4f7c-9448-412ebf5ece14",
   "metadata": {},
   "outputs": [
    {
     "name": "stdout",
     "output_type": "stream",
     "text": [
      "John\n",
      "25\n",
      "Exampleville\n"
     ]
    }
   ],
   "source": [
    "##kwargs keyword use: Getting only values\n",
    "def example_function(**kwargs):\n",
    "    for value in kwargs.values():\n",
    "        print(f\"{value}\")\n",
    "\n",
    "example_function(name=\"John\", age=25, city=\"Exampleville\")"
   ]
  },
  {
   "cell_type": "code",
   "execution_count": 13,
   "id": "1c05d745-1307-4157-9492-46d656c10304",
   "metadata": {},
   "outputs": [
    {
     "name": "stdout",
     "output_type": "stream",
     "text": [
      "1\n",
      "2\n",
      "3\n",
      "four\n"
     ]
    }
   ],
   "source": [
    "#args keyword in Python\n",
    "def example_function(*args):\n",
    "    for arg in args:\n",
    "        print(arg)\n",
    "\n",
    "example_function(1, 2, 3, \"four\")"
   ]
  },
  {
   "cell_type": "markdown",
   "id": "d0ddbfef-f94d-4619-8b97-39dbb2f76227",
   "metadata": {},
   "source": [
    "<h3>Q3. What is an iterator in python? Name the method used to initialise the iterator object and the method\n",
    "used for iteration. Use these methods to print the first five elements of the given list [2, 4, 6, 8, 10, 12, 14, 16,\n",
    "18, 20].\n",
    "<h4>    \n",
    "<p>In Python, an iterator is an object that represents a stream of data and is used to iterate over that data. Iterators implement two methods: __iter__ and __next__.</p>\n",
    "    \n",
    "<p>In this example, iter(my_list) creates an iterator object for the given list, and then the next(my_iterator) method is used to retrieve the next element in each iteration of the loop.</p>\n",
    "</h4>    \n",
    "</h3>\n"
   ]
  },
  {
   "cell_type": "code",
   "execution_count": 16,
   "id": "30564342-f5bd-493e-a695-9d90ec5ceb82",
   "metadata": {},
   "outputs": [
    {
     "name": "stdout",
     "output_type": "stream",
     "text": [
      "2\n",
      "4\n",
      "6\n",
      "8\n",
      "10\n"
     ]
    }
   ],
   "source": [
    "# Define the list\n",
    "my_list = [2, 4, 6, 8, 10, 12, 14, 16, 18, 20]\n",
    "\n",
    "# Create an iterator object using iter()\n",
    "my_iterator = iter(my_list)\n",
    "\n",
    "# Use the iterator to print the first five elements\n",
    "for element in range(5):\n",
    "    element = next(my_iterator)\n",
    "    print(element)\n"
   ]
  },
  {
   "cell_type": "markdown",
   "id": "94bbcfc7-37f6-4961-9f82-bb123e5d7d33",
   "metadata": {},
   "source": [
    "<h3>Q4. What is a generator function in python? Why yield keyword is used? Give an example of a generator\n",
    "function.</h3>\n",
    "\n",
    "<h4>\n",
    "    <p>\n",
    "    In Python, a generator function is a special type of function that allows you to iterate over a potentially large sequence of data without generating the entire sequence in memory at once. It uses the yield keyword to produce a series of values one at a time.</p>\n",
    "<p>A generator function is defined like a regular function but contains one or more yield statements. When the function is called, it returns an iterator, and each call to next() on that iterator resumes the execution of the generator function until it encounters a yield statement. The function's state is then saved, and the yielded value is returned. The next time next() is called, the function resumes execution from where it was paused.</p>   \n",
    "</h4>\n",
    "\n"
   ]
  },
  {
   "cell_type": "code",
   "execution_count": 17,
   "id": "093298b1-a3eb-47c3-9a41-82ae3a31c0ff",
   "metadata": {},
   "outputs": [
    {
     "name": "stdout",
     "output_type": "stream",
     "text": [
      "0\n",
      "1\n",
      "4\n",
      "9\n",
      "16\n"
     ]
    }
   ],
   "source": [
    "def generate_squares(n):\n",
    "    for i in range(n):\n",
    "        yield i ** 2\n",
    "\n",
    "# Using the generator function\n",
    "squares_generator = generate_squares(5)\n",
    "\n",
    "# Iterating over the generated squares\n",
    "for square in squares_generator:\n",
    "    print(square)\n"
   ]
  },
  {
   "cell_type": "markdown",
   "id": "17c90cfd-87ca-46bd-b4b0-a7df2a5f8393",
   "metadata": {},
   "source": [
    "Q5. Create a generator function for prime numbers less than 1000. Use the next() method to print the\n",
    "first 20 prime numbers."
   ]
  },
  {
   "cell_type": "code",
   "execution_count": 20,
   "id": "efbfa707-a96a-4182-aeef-baf316b04b71",
   "metadata": {},
   "outputs": [
    {
     "name": "stdout",
     "output_type": "stream",
     "text": [
      "2\n",
      "3\n",
      "5\n",
      "7\n",
      "11\n",
      "13\n",
      "17\n",
      "19\n",
      "23\n",
      "29\n",
      "31\n",
      "37\n",
      "41\n",
      "43\n",
      "47\n",
      "53\n",
      "59\n",
      "61\n",
      "67\n",
      "71\n"
     ]
    }
   ],
   "source": [
    "def is_prime(num):\n",
    "    if num < 2:\n",
    "        return False\n",
    "    for i in range(2, int(num**0.5) + 1):\n",
    "        if num % i == 0:\n",
    "            return False\n",
    "    return True\n",
    "\n",
    "def generate_primes():\n",
    "    count = 0\n",
    "    num = 2\n",
    "    while count < 20:\n",
    "        if is_prime(num):\n",
    "            yield num\n",
    "            count += 1\n",
    "        num += 1\n",
    "\n",
    "# Using the generator function\n",
    "primes_generator = generate_primes()\n",
    "\n",
    "# Printing the first 20 prime numbers using next()\n",
    "for _ in range(20):\n",
    "    print(next(primes_generator))\n"
   ]
  },
  {
   "cell_type": "code",
   "execution_count": null,
   "id": "b6fb9d16-09df-46dd-b3bf-6a45300327cc",
   "metadata": {},
   "outputs": [],
   "source": []
  }
 ],
 "metadata": {
  "kernelspec": {
   "display_name": "Python 3 (ipykernel)",
   "language": "python",
   "name": "python3"
  },
  "language_info": {
   "codemirror_mode": {
    "name": "ipython",
    "version": 3
   },
   "file_extension": ".py",
   "mimetype": "text/x-python",
   "name": "python",
   "nbconvert_exporter": "python",
   "pygments_lexer": "ipython3",
   "version": "3.10.8"
  }
 },
 "nbformat": 4,
 "nbformat_minor": 5
}
