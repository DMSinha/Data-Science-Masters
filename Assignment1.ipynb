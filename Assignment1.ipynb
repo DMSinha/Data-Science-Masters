{
 "cells": [
  {
   "cell_type": "markdown",
   "id": "e087feee-db3d-4e1f-a838-28ebf44e455e",
   "metadata": {},
   "source": [
    "<h2>Create Variable of Data Type\n",
    "i)\tstring\n",
    "\n",
    "(ii)\tlist\n",
    "\n",
    "(iii)\tfloat\n",
    "\n",
    "(iv)\ttuple\n",
    "</h2>"
   ]
  },
  {
   "cell_type": "code",
   "execution_count": 1,
   "id": "972a7b26-c389-4219-8c21-841139fb2784",
   "metadata": {},
   "outputs": [
    {
     "data": {
      "text/plain": [
       "str"
      ]
     },
     "execution_count": 1,
     "metadata": {},
     "output_type": "execute_result"
    }
   ],
   "source": [
    "## String Data Type\n",
    "a = \"Divya\"\n",
    "type(a)"
   ]
  },
  {
   "cell_type": "code",
   "execution_count": 2,
   "id": "2d00152e-a206-449f-9057-352e32b160e4",
   "metadata": {},
   "outputs": [
    {
     "data": {
      "text/plain": [
       "list"
      ]
     },
     "execution_count": 2,
     "metadata": {},
     "output_type": "execute_result"
    }
   ],
   "source": [
    "## List Data Type\n",
    "a= [\"Divya\",1,2,\"a+b\"]\n",
    "type(a)"
   ]
  },
  {
   "cell_type": "code",
   "execution_count": 3,
   "id": "ca6c43f2-3fed-4917-8590-90f157dc4560",
   "metadata": {},
   "outputs": [
    {
     "data": {
      "text/plain": [
       "float"
      ]
     },
     "execution_count": 3,
     "metadata": {},
     "output_type": "execute_result"
    }
   ],
   "source": [
    "##float Data Type\n",
    "a= 1.2\n",
    "type(a)"
   ]
  },
  {
   "cell_type": "code",
   "execution_count": 4,
   "id": "ee56bbbb-8fca-4ef2-854b-be0d30a96dc7",
   "metadata": {},
   "outputs": [
    {
     "data": {
      "text/plain": [
       "tuple"
      ]
     },
     "execution_count": 4,
     "metadata": {},
     "output_type": "execute_result"
    }
   ],
   "source": [
    "#tuple data type\n",
    "a=(1,2,3,\"Divya\")\n",
    "type(a)"
   ]
  },
  {
   "cell_type": "markdown",
   "id": "73c2e22d-a500-487f-bf77-2912878f0874",
   "metadata": {},
   "source": [
    "<h2>Q2. Given are some following variables containing data:\n",
    "\n",
    "(i)\tvar1 = ‘ ‘\n",
    "\n",
    "(ii)\tvar2 = ‘[ DS , ML , Python]’\n",
    "\n",
    "(iii)\tvar3 = [ ‘DS’ , ’ML’ , ‘Python’ ]\n",
    "\n",
    "(iv)\tvar4 = 1.\n",
    "\n",
    "\n",
    "What will be the data type of the above given variable.\n",
    "    </h2>"
   ]
  },
  {
   "cell_type": "code",
   "execution_count": 5,
   "id": "1dd38a99-992f-4e03-b03f-2515457b5e90",
   "metadata": {},
   "outputs": [
    {
     "data": {
      "text/plain": [
       "str"
      ]
     },
     "execution_count": 5,
     "metadata": {},
     "output_type": "execute_result"
    }
   ],
   "source": [
    "var1 = ''\n",
    "type(var1)"
   ]
  },
  {
   "cell_type": "code",
   "execution_count": 7,
   "id": "047847ce-04fb-4daa-856f-643db34d7ca4",
   "metadata": {},
   "outputs": [
    {
     "data": {
      "text/plain": [
       "str"
      ]
     },
     "execution_count": 7,
     "metadata": {},
     "output_type": "execute_result"
    }
   ],
   "source": [
    "var2 = '[ DS , ML , Python]'\n",
    "type(var2)\n"
   ]
  },
  {
   "cell_type": "code",
   "execution_count": 9,
   "id": "572a731f-f3f3-4a24-abe1-fab95ad7ae00",
   "metadata": {},
   "outputs": [
    {
     "data": {
      "text/plain": [
       "list"
      ]
     },
     "execution_count": 9,
     "metadata": {},
     "output_type": "execute_result"
    }
   ],
   "source": [
    "var3 = [ 'DS' , 'ML' , 'Python' ]\n",
    "type(var3)"
   ]
  },
  {
   "cell_type": "code",
   "execution_count": 11,
   "id": "68467603-fad5-4708-ab83-4e1c6366e013",
   "metadata": {},
   "outputs": [
    {
     "data": {
      "text/plain": [
       "float"
      ]
     },
     "execution_count": 11,
     "metadata": {},
     "output_type": "execute_result"
    }
   ],
   "source": [
    "var4 = 1.\n",
    "type(var4)"
   ]
  },
  {
   "cell_type": "markdown",
   "id": "9622f4d1-96cc-4da2-beaa-98d7e96b9466",
   "metadata": {},
   "source": [
    "<h2>3. Explain the use of the following operators using an example:\n",
    "\n",
    "(i)\t/\n",
    "\n",
    "(ii)\t% \n",
    "\n",
    "(iii)\t//\n",
    "\n",
    "(iv)\t**\n",
    "</h2>"
   ]
  },
  {
   "cell_type": "code",
   "execution_count": 12,
   "id": "aa08e63c-1e4c-434f-8aff-9cd0a23458b0",
   "metadata": {},
   "outputs": [
    {
     "data": {
      "text/plain": [
       "2.5"
      ]
     },
     "execution_count": 12,
     "metadata": {},
     "output_type": "execute_result"
    }
   ],
   "source": [
    "##Division Operator: Gives value with decimal\n",
    "5/2"
   ]
  },
  {
   "cell_type": "code",
   "execution_count": 13,
   "id": "9a9f780e-7aae-47bd-b795-cb40bd9927da",
   "metadata": {},
   "outputs": [
    {
     "data": {
      "text/plain": [
       "1"
      ]
     },
     "execution_count": 13,
     "metadata": {},
     "output_type": "execute_result"
    }
   ],
   "source": [
    "#Mod Operator: Gives remainder \n",
    "5%2"
   ]
  },
  {
   "cell_type": "code",
   "execution_count": 14,
   "id": "b51553ab-96e8-423f-ad0b-4cf9bb6f2228",
   "metadata": {},
   "outputs": [
    {
     "data": {
      "text/plain": [
       "2"
      ]
     },
     "execution_count": 14,
     "metadata": {},
     "output_type": "execute_result"
    }
   ],
   "source": [
    "#//: Gives Upper floor value and decimal part is removed\n",
    "5//2"
   ]
  },
  {
   "cell_type": "code",
   "execution_count": 15,
   "id": "3a9590da-0e82-48cc-9102-ed33428d9f5c",
   "metadata": {},
   "outputs": [
    {
     "data": {
      "text/plain": [
       "25"
      ]
     },
     "execution_count": 15,
     "metadata": {},
     "output_type": "execute_result"
    }
   ],
   "source": [
    "#**: Power Operator: Gives POwer value\n",
    "5**2"
   ]
  },
  {
   "cell_type": "markdown",
   "id": "109e0800-5ba7-430d-b5df-73ad6d52ce82",
   "metadata": {},
   "source": [
    "<h2>Q4. Create a list of length 10 of your choice containing multiple types of data. Using for loop print the \n",
    "element and its data type.\n",
    "    </h2>"
   ]
  },
  {
   "cell_type": "code",
   "execution_count": 23,
   "id": "7ea2b8e7-c981-48c7-a787-a84c20cb1b95",
   "metadata": {},
   "outputs": [
    {
     "name": "stdout",
     "output_type": "stream",
     "text": [
      "Length of List 10\n",
      "Value:  1  Type:  <class 'str'>\n",
      "Value:  2  Type:  <class 'str'>\n",
      "Value:  1  Type:  <class 'int'>\n",
      "Value:  2  Type:  <class 'int'>\n",
      "Value:  3  Type:  <class 'int'>\n",
      "Value:  Divya  Type:  <class 'str'>\n",
      "Value:  5.7  Type:  <class 'float'>\n",
      "Value:  a+b  Type:  <class 'str'>\n",
      "Value:  9  Type:  <class 'str'>\n",
      "Value:  (5+6j)  Type:  <class 'complex'>\n"
     ]
    }
   ],
   "source": [
    "a= [\"1\", \"2\", 1, 2, 3, \"Divya\", 5.7,\"a+b\",\"9\", 5+6j]\n",
    "length = len(a)\n",
    "print(\"Length of List\", length)\n",
    "for i in a:\n",
    "    print(\"Value: \", i, \" Type: \", type(i))"
   ]
  },
  {
   "cell_type": "markdown",
   "id": "ac2137ca-daf5-4886-b60c-f26065ae5e10",
   "metadata": {},
   "source": [
    "Q5. Using a while loop, verify if the number A is purely divisible by number B and if so then how many \n",
    "times it can be divisible."
   ]
  },
  {
   "cell_type": "code",
   "execution_count": 33,
   "id": "9df313c0-1b03-4c7f-8676-35674cc45b17",
   "metadata": {},
   "outputs": [
    {
     "name": "stdin",
     "output_type": "stream",
     "text": [
      "Enter a number1: 5\n",
      "Enter a number2: 2\n"
     ]
    },
    {
     "name": "stdout",
     "output_type": "stream",
     "text": [
      "5 is not purely Divisible by 2. And is divisible only 2 times\n"
     ]
    }
   ],
   "source": [
    "a= int(input(\"Enter a number1:\"))\n",
    "b= int(input(\"Enter a number2:\"))\n",
    "remainder = a\n",
    "Count=0\n",
    "\n",
    "while remainder>=b:\n",
    "    remainder= remainder-b\n",
    "    Count = Count+1\n",
    "    if remainder==0:\n",
    "        print(\"Remainder is Zero. So {} is purely divisble by {}. Divisible Times: {}\".format(a,b,Count))\n",
    "        break\n",
    "    elif remainder<b:\n",
    "        print(\"{} is not purely Divisible by {}. And is divisible only {} times\".format(a,b,Count))\n"
   ]
  },
  {
   "cell_type": "markdown",
   "id": "86ed429c-5060-4cc8-b41a-a96427986609",
   "metadata": {},
   "source": [
    "<h2>Q6. Create a list containing 25 int type data. Using for loop and if-else condition print if the element is \n",
    "divisible by 3 or not.</h2>"
   ]
  },
  {
   "cell_type": "code",
   "execution_count": 37,
   "id": "a26147ec-2b78-4412-bf3d-8108726994eb",
   "metadata": {},
   "outputs": [
    {
     "name": "stdout",
     "output_type": "stream",
     "text": [
      "Element: 1 is Not divisible by 3\n",
      "Element: 2 is Not divisible by 3\n",
      "Element: 3 is divisible by 3\n",
      "Element: 4 is Not divisible by 3\n",
      "Element: 5 is Not divisible by 3\n",
      "Element: 6 is divisible by 3\n",
      "Element: 7 is Not divisible by 3\n",
      "Element: 8 is Not divisible by 3\n",
      "Element: 9 is divisible by 3\n",
      "Element: 10 is Not divisible by 3\n",
      "Element: 11 is Not divisible by 3\n",
      "Element: 12 is divisible by 3\n",
      "Element: 13 is Not divisible by 3\n",
      "Element: 14 is Not divisible by 3\n",
      "Element: 15 is divisible by 3\n",
      "Element: 16 is Not divisible by 3\n",
      "Element: 17 is Not divisible by 3\n",
      "Element: 18 is divisible by 3\n",
      "Element: 19 is Not divisible by 3\n",
      "Element: 20 is Not divisible by 3\n",
      "Element: 21 is divisible by 3\n",
      "Element: 22 is Not divisible by 3\n",
      "Element: 23 is Not divisible by 3\n",
      "Element: 24 is divisible by 3\n",
      "Element: 25 is Not divisible by 3\n"
     ]
    }
   ],
   "source": [
    "a = [1,2,3,4,5,6,7,8,9,10,11,12,13,14,15,16,17,18,19,20,21,22,23,24,25]\n",
    "for i in a:\n",
    "    if ( i%3==0):\n",
    "        print(\"Element: {} is divisible by 3\". format(i))\n",
    "    else:\n",
    "        print(\"Element: {} is Not divisible by 3\". format(i))\n",
    "            \n",
    "        "
   ]
  },
  {
   "cell_type": "markdown",
   "id": "74a2fb6a-e6df-46ae-adb8-a3196a4f2c0c",
   "metadata": {},
   "source": [
    "<h2>Q7. What do you understand about mutable and immutable data types? Give examples for both showing \n",
    "this property\n",
    "\n",
    "Mutable Objects:\n",
    "Objects which can be modified. \n",
    "List, Dictionary, Sets\n",
    "\n",
    "Immutable:\n",
    "Objects which cannot be modified.\n",
    "String, Tuple, Numbers\n",
    "    </h2>"
   ]
  },
  {
   "cell_type": "code",
   "execution_count": 38,
   "id": "74b536d7-c5b4-47d5-9ae6-f59af6546df5",
   "metadata": {},
   "outputs": [
    {
     "data": {
      "text/plain": [
       "str"
      ]
     },
     "execution_count": 38,
     "metadata": {},
     "output_type": "execute_result"
    }
   ],
   "source": [
    "a=\"Divya\"\n",
    "type(a)\n"
   ]
  },
  {
   "cell_type": "code",
   "execution_count": 39,
   "id": "34b458f1-de32-47b4-b726-b20f3d803f7a",
   "metadata": {},
   "outputs": [
    {
     "data": {
      "text/plain": [
       "'D'"
      ]
     },
     "execution_count": 39,
     "metadata": {},
     "output_type": "execute_result"
    }
   ],
   "source": [
    "a[0]\n"
   ]
  },
  {
   "cell_type": "code",
   "execution_count": 40,
   "id": "01e6dad3-c6c9-4919-b00a-f1f7c09b707d",
   "metadata": {},
   "outputs": [
    {
     "ename": "TypeError",
     "evalue": "'str' object does not support item assignment",
     "output_type": "error",
     "traceback": [
      "\u001b[0;31m---------------------------------------------------------------------------\u001b[0m",
      "\u001b[0;31mTypeError\u001b[0m                                 Traceback (most recent call last)",
      "Cell \u001b[0;32mIn[40], line 1\u001b[0m\n\u001b[0;32m----> 1\u001b[0m \u001b[43ma\u001b[49m\u001b[43m[\u001b[49m\u001b[38;5;241;43m0\u001b[39;49m\u001b[43m]\u001b[49m\u001b[38;5;241m=\u001b[39m\u001b[38;5;124m\"\u001b[39m\u001b[38;5;124mJ\u001b[39m\u001b[38;5;124m\"\u001b[39m\n",
      "\u001b[0;31mTypeError\u001b[0m: 'str' object does not support item assignment"
     ]
    }
   ],
   "source": []
  },
  {
   "cell_type": "code",
   "execution_count": null,
   "id": "312fc7a0-4d5a-48b3-af86-7b1a0701c205",
   "metadata": {},
   "outputs": [],
   "source": []
  },
  {
   "cell_type": "code",
   "execution_count": null,
   "id": "62a2caa6-38d3-4327-b1fa-5669d7a3801a",
   "metadata": {},
   "outputs": [],
   "source": []
  },
  {
   "cell_type": "code",
   "execution_count": null,
   "id": "991147d8-b5cc-438a-bcc2-df7569321494",
   "metadata": {},
   "outputs": [],
   "source": []
  }
 ],
 "metadata": {
  "kernelspec": {
   "display_name": "Python 3 (ipykernel)",
   "language": "python",
   "name": "python3"
  },
  "language_info": {
   "codemirror_mode": {
    "name": "ipython",
    "version": 3
   },
   "file_extension": ".py",
   "mimetype": "text/x-python",
   "name": "python",
   "nbconvert_exporter": "python",
   "pygments_lexer": "ipython3",
   "version": "3.10.8"
  }
 },
 "nbformat": 4,
 "nbformat_minor": 5
}
